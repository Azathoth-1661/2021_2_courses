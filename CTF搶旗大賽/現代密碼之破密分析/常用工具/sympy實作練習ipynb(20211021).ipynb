{
  "nbformat": 4,
  "nbformat_minor": 0,
  "metadata": {
    "colab": {
      "name": "sympy實作練習ipynb",
      "provenance": [],
      "collapsed_sections": []
    },
    "kernelspec": {
      "name": "python3",
      "display_name": "Python 3"
    },
    "language_info": {
      "name": "python"
    }
  },
  "cells": [
    {
      "cell_type": "code",
      "metadata": {
        "colab": {
          "base_uri": "https://localhost:8080/"
        },
        "id": "h2WGEN1nhn1y",
        "outputId": "4124a6b0-ef62-45b2-e39b-8a8050858b20"
      },
      "source": [
        "!pip install sympy"
      ],
      "execution_count": 1,
      "outputs": [
        {
          "output_type": "stream",
          "name": "stdout",
          "text": [
            "Requirement already satisfied: sympy in /usr/local/lib/python3.7/dist-packages (1.7.1)\n",
            "Requirement already satisfied: mpmath>=0.19 in /usr/local/lib/python3.7/dist-packages (from sympy) (1.2.1)\n"
          ]
        }
      ]
    },
    {
      "cell_type": "markdown",
      "metadata": {
        "id": "9axxIsYdiCGh"
      },
      "source": [
        "## 1.\n",
        "\n",
        "Simple integral:\n",
        "$$\\int_{a}^b f(x)dx$$\n",
        "\n",
        "Double integral:\n",
        "$$\\int_{a}^b\\int_{c}^d f(x,y)\\,dxdy$$\t\n",
        "\n",
        "Triple integral:\n",
        "$$\\iiint$$\t\n",
        "\n",
        "Quadruple integral:\n",
        "$$\\iiiint$$\t\n",
        "\n",
        "Multiple integral :\n",
        "$$\\idotsint$$\n",
        "\n",
        "Contour integral:\n",
        "$$\\oint$$\t"
      ]
    },
    {
      "cell_type": "markdown",
      "metadata": {
        "id": "msM8CKGtlYLg"
      },
      "source": [
        "$$\\int exp(2*x)dx$$ = (1/2)$$\\int exp(2*x)d(2x)$$ = (1/2) exp(2*x)"
      ]
    },
    {
      "cell_type": "code",
      "metadata": {
        "colab": {
          "base_uri": "https://localhost:8080/",
          "height": 54
        },
        "id": "5gSNku2kh9Xk",
        "outputId": "34a86f66-f35a-4ab2-c273-4bd766828e53"
      },
      "source": [
        "import math\n",
        "from sympy import *                                                                                              \n",
        "x = symbols('x')\n",
        "integrate(exp(2*x), x)"
      ],
      "execution_count": 2,
      "outputs": [
        {
          "output_type": "execute_result",
          "data": {
            "text/latex": "$\\displaystyle \\frac{e^{2 x}}{2}$",
            "text/plain": [
              "exp(2*x)/2"
            ]
          },
          "metadata": {},
          "execution_count": 2
        }
      ]
    },
    {
      "cell_type": "code",
      "metadata": {
        "colab": {
          "base_uri": "https://localhost:8080/",
          "height": 54
        },
        "id": "x3wLwYD4iqvH",
        "outputId": "5049bdf4-a38b-4ad4-fb82-e76ff2f9a290"
      },
      "source": [
        "import math\n",
        "from sympy import *                                                                                              \n",
        "x = symbols('x')\n",
        "integrate(exp(2*x), (x, 0, 1))"
      ],
      "execution_count": 3,
      "outputs": [
        {
          "output_type": "execute_result",
          "data": {
            "text/latex": "$\\displaystyle - \\frac{1}{2} + \\frac{e^{2}}{2}$",
            "text/plain": [
              "-1/2 + exp(2)/2"
            ]
          },
          "metadata": {},
          "execution_count": 3
        }
      ]
    },
    {
      "cell_type": "markdown",
      "metadata": {
        "id": "S_fCjVjel8XM"
      },
      "source": [
        "## wiki的範例\n",
        "\n",
        "https://zh.wikipedia.org/wiki/SymPy"
      ]
    },
    {
      "cell_type": "code",
      "metadata": {
        "colab": {
          "base_uri": "https://localhost:8080/",
          "height": 73
        },
        "id": "zuWCHtkfjDSB",
        "outputId": "a686fa1e-dfd9-48dd-8bb9-8b5db6047395"
      },
      "source": [
        "from sympy import init_printing, integrate, log, sqrt, symbols\n",
        "init_printing()\n",
        "\n",
        "x = symbols('x')\n",
        "g = sqrt(x + log(x))\n",
        "f = (x ** 2 + 2 * x + 1 + (3 * x + 1) * g) / (x * g * (x + g))\n",
        "f"
      ],
      "execution_count": 4,
      "outputs": [
        {
          "output_type": "execute_result",
          "data": {
            "image/png": "[encoded data removed]",
            "text/latex": "$\\displaystyle \\frac{x^{2} + 2 x + \\sqrt{x + \\log{\\left(x \\right)}} \\left(3 x + 1\\right) + 1}{x \\left(x + \\sqrt{x + \\log{\\left(x \\right)}}\\right) \\sqrt{x + \\log{\\left(x \\right)}}}$",
            "text/plain": [
              " 2           ____________              \n",
              "x  + 2⋅x + ╲╱ x + log(x) ⋅(3⋅x + 1) + 1\n",
              "───────────────────────────────────────\n",
              "   ⎛      ____________⎞   ____________ \n",
              " x⋅⎝x + ╲╱ x + log(x) ⎠⋅╲╱ x + log(x)  "
            ]
          },
          "metadata": {},
          "execution_count": 4
        }
      ]
    },
    {
      "cell_type": "code",
      "metadata": {
        "colab": {
          "base_uri": "https://localhost:8080/",
          "height": 58
        },
        "id": "AvWEd-CdjrZl",
        "outputId": "328683bb-0537-472a-a580-8d41b4de8d84"
      },
      "source": [
        "eq = (2*x+1)*3*x\n",
        "solve(eq, x)"
      ],
      "execution_count": 7,
      "outputs": [
        {
          "output_type": "execute_result",
          "data": {
            "image/png": "[encoded data removed]",
            "text/latex": "$\\displaystyle \\left[ - \\frac{1}{2}, \\  0\\right]$",
            "text/plain": [
              "[-1/2, 0]"
            ]
          },
          "metadata": {},
          "execution_count": 7
        }
      ]
    },
    {
      "cell_type": "code",
      "metadata": {
        "colab": {
          "base_uri": "https://localhost:8080/",
          "height": 54
        },
        "id": "syIrBJ9fpvfk",
        "outputId": "128edebf-7895-41bb-b53c-e74c332ee3a5"
      },
      "source": [
        "from sympy import *                                                                                       \n",
        "t = symbols('t')\n",
        "\n",
        "y = Function('y')\n",
        "dsolve(Eq(Derivative(y(t), t) -3*y(t), 2), y(t))"
      ],
      "execution_count": 8,
      "outputs": [
        {
          "output_type": "execute_result",
          "data": {
            "image/png": "[encoded data removed]",
            "text/latex": "$\\displaystyle y{\\left(t \\right)} = \\frac{C_{1} e^{3 t}}{3} - \\frac{2}{3}$",
            "text/plain": [
              "           3⋅t    \n",
              "       C₁⋅ℯ      2\n",
              "y(t) = ─────── - ─\n",
              "          3      3"
            ]
          },
          "metadata": {},
          "execution_count": 8
        }
      ]
    },
    {
      "cell_type": "code",
      "metadata": {
        "colab": {
          "base_uri": "https://localhost:8080/",
          "height": 78
        },
        "id": "D_Bxcn3Sq0w1",
        "outputId": "fcbc5e69-e4e7-471d-a820-e96dd40257ff"
      },
      "source": [
        "Matrix([[1, -1], [3, 4], [0, 2]])"
      ],
      "execution_count": 9,
      "outputs": [
        {
          "output_type": "execute_result",
          "data": {
            "text/latex": "$\\displaystyle \\left[\\begin{matrix}1 & -1\\\\3 & 4\\\\0 & 2\\end{matrix}\\right]$",
            "text/plain": [
              "⎡1  -1⎤\n",
              "⎢     ⎥\n",
              "⎢3  4 ⎥\n",
              "⎢     ⎥\n",
              "⎣0  2 ⎦"
            ]
          },
          "metadata": {},
          "execution_count": 9
        }
      ]
    },
    {
      "cell_type": "code",
      "metadata": {
        "colab": {
          "base_uri": "https://localhost:8080/",
          "height": 58
        },
        "id": "YPCgnk4krCXy",
        "outputId": "e3b3477e-65b5-4322-f50c-25937393ad2f"
      },
      "source": [
        "M = Matrix([[1, 3], [-2, 3]])\n",
        "M\n",
        "N = Matrix([[0, 3], [0, 7]])\n",
        "N\n",
        "M + N"
      ],
      "execution_count": 11,
      "outputs": [
        {
          "output_type": "execute_result",
          "data": {
            "text/latex": "$\\displaystyle \\left[\\begin{matrix}1 & 6\\\\-2 & 10\\end{matrix}\\right]$",
            "text/plain": [
              "⎡1   6 ⎤\n",
              "⎢      ⎥\n",
              "⎣-2  10⎦"
            ]
          },
          "metadata": {},
          "execution_count": 11
        }
      ]
    }
  ]
}
